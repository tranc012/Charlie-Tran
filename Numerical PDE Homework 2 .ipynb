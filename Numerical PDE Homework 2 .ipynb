{
 "cells": [
  {
   "cell_type": "markdown",
   "metadata": {},
   "source": [
    "## Numerical Partial Differential Equations Homework 2 "
   ]
  },
  {
   "cell_type": "markdown",
   "metadata": {},
   "source": [
    "(1) Exericse 5.1 Use Program 5.1 to explore the effect on the parameter $\\alpha$ in Robin boundary conditions. Show that as $\\alpha \\rightarrow \\infty$ that the solution tends to the solution of the Dirichlet problem. More precisely, compute the norm of the difference of the Robin solution from the exact solution for the Dirichlet problem for large values of $\\alpha$. What happens when $\\alpha \\rightarrow$ 0? Explain "
   ]
  },
  {
   "cell_type": "code",
   "execution_count": null,
   "metadata": {},
   "outputs": [],
   "source": []
  },
  {
   "cell_type": "code",
   "execution_count": 1,
   "metadata": {},
   "outputs": [
    {
     "name": "stdout",
     "output_type": "stream",
     "text": [
      "9.30032652375203\n",
      "8.3003315853362\n",
      "7.300331853497216\n",
      "6.300332059877083\n",
      "5.3003330398535455\n",
      "4.300342763421428\n",
      "3.3004399768786206\n",
      "2.3014112357212255\n",
      "1.311036248561804\n",
      "0.39879835091535587\n",
      "-0.14143707041488277\n",
      "-0.2649286122012638\n",
      "-0.2795672754721309\n",
      "-0.2810602707207259\n",
      "-0.28120987025171756\n",
      "-0.281224833215364\n",
      "-0.2812263295418453\n",
      "-0.28122647917479504\n",
      "-0.2812264941380928\n"
     ]
    },
    {
     "data": {
      "text/plain": [
       "<Figure size 640x480 with 1 Axes>"
      ]
     },
     "metadata": {},
     "output_type": "display_data"
    }
   ],
   "source": [
    "from dolfin import * \n",
    "from math import pi as pi \n",
    "from math import log10 as log\n",
    "from fenics import *\n",
    "import numpy as np \n",
    "import matplotlib.pyplot as plt\n",
    "#Creating set of alpha\n",
    "\n",
    "# Create mesh and define function space\n",
    "mesh = UnitSquareMesh(32, 32)\n",
    "V = FunctionSpace(mesh, \"Lagrange\", 1)\n",
    "alpha = [10**-9,10**-8,10**-7,10**-6,10**-5,10**-4,10**-3,10**-2,10**-1,\n",
    "         1,10**1,10**2,10**3,10**4,10**5,10**6,10**7,10**8,10**9]\n",
    "graphvec1 = [] \n",
    "graphvec2 = []\n",
    "graphvec3 = []\n",
    "graphvec4 = [] \n",
    "for alpha in alpha:\n",
    "# Define variational problem\n",
    "\n",
    "    u = TrialFunction(V)\n",
    "    v = TestFunction(V)\n",
    "    f = Expression(\"(sin(3.141592*x[0]))*(sin(3.141592*x[1]))\",degree=1)\n",
    "    Exact = Expression(\"-(sin(pi*x[0]))*(sin(pi*x[1])/(2*pi*pi))\",degree=1)\n",
    "    a = inner(grad(u), grad(v))*dx + alpha*u*v*ds\n",
    "    L = (2*3.141592*3.141592)*f*v*dx \n",
    "\n",
    "# Compute solution\n",
    "    u = Function(V)\n",
    "    solve(a == L, u)\n",
    "    l2err = errornorm(Exact,u,norm_type='l2',degree_rise=3) \n",
    "    #print('The L2 Error Between the Robin Solution and the True Dirichlet Solution for alpha =',alpha, 'is', l2err)\n",
    "    graphvec1 = np.append(graphvec1, log(alpha))\n",
    "    graphvec2 = np.append(graphvec2, log(l2err))\n",
    "    print(log(l2err))\n",
    "    #graphvec3 = np.append(graphvec3, alpha)\n",
    "    #graphvec4 = np.append(graphvec4, l2err)\n",
    "    \n",
    "# Plot solution\n",
    "#plot(u, interactive=True)\n",
    "plt.plot(graphvec1,graphvec2,'o')\n",
    "locs, labels = plt.xticks()\n",
    "labels = plt.xticks(np.arange(-9, 9, step=3))\n",
    "locs, labels = plt.yticks()\n",
    "plt.title('log-log (base 10) plot of alpha vs l2err')\n",
    "plt.xlabel('log(alpha)')\n",
    "plt.ylabel('log(l2err)')\n",
    "plt.show()\n",
    "#locs, labels = plt.xticks()\n",
    "#labels = xticks(np.arange(0, 10, step=1))"
   ]
  },
  {
   "cell_type": "code",
   "execution_count": null,
   "metadata": {},
   "outputs": [],
   "source": []
  },
  {
   "cell_type": "markdown",
   "metadata": {},
   "source": [
    "(2) Exercise 7.1 Let $\\epsilon > 0 $. Consider the problem \n",
    "$$ -\\epsilon \\Delta u_e + u_e = f \\hspace{1mm} \\textit{in} \\hspace{1mm}\\Omega = [0,1]^2 $$\n",
    "together with the homogeneous Dirichlet conditions on all of $\\partial \\Omega$, where $f(x,y) = sin ( \\pi x )sin ( \\pi y )$, which does satisfy the boundary conditions (2.2), See what happens for small $\\epsilon$. Does $u_e \\rightarrow f$? Is there a boundary layer? If the homogeneous boundary conditions hold on only a part $\\Gamma$ of the boundary, is there a boundary layer away from $\\Gamma$? \\\\\n"
   ]
  },
  {
   "cell_type": "code",
   "execution_count": null,
   "metadata": {},
   "outputs": [],
   "source": [
    "from math import pi as pi \n",
    "set_log_active(False)\n",
    "from math import log10 as log\n",
    "from fenics import *\n",
    "import numpy as np \n",
    "import matplotlib.pyplot as plt\n",
    "#Creating set of alpha\n",
    "\n",
    "# Create mesh and define function space\n",
    "mesh = UnitSquareMesh(32, 32)\n",
    "V = FunctionSpace(mesh, \"Lagrange\", 1)\n",
    "alpha = [10**-9,10**-8,10**-7,10**-6,10**-5,10**-4,10**-3,10**-2,10**-1,\n",
    "         1,10**1,10**2,10**3,10**4,10**5,10**6,10**7,10**8,10**9]\n",
    "graphvec1 = [] \n",
    "graphvec2 = []\n",
    "graphvec3 = []\n",
    "graphvec4 = [] \n",
    "for alpha in alpha:\n",
    "# Define variational problem\n",
    "\n",
    "    u = TrialFunction(V)\n",
    "    v = TestFunction(V)\n",
    "    f = Expression(\"(sin(3.141592*x[0]))*(sin(3.141592*x[1]))\",degree=1)\n",
    "    Exact = Expression(\"-(sin(pi*x[0]))*(sin(pi*x[1])/(2*pi*pi))\",degree=1)\n",
    "    a = inner(grad(u), grad(v))*dx + alpha*u*v*ds\n",
    "    L = (2*3.141592*3.141592)*f*v*dx \n",
    "\n",
    "# Compute solution\n",
    "    u = Function(V)\n",
    "    solve(a == L, u)\n",
    "    l2err = errornorm(Exact,u,norm_type='l2',degree_rise=3) \n",
    "    #print('The L2 Error Between the Robin Solution and the True Dirichlet Solution for alpha =',alpha, 'is', l2err)\n",
    "    graphvec1 = np.append(graphvec1, log(alpha))\n",
    "    graphvec2 = np.append(graphvec2, log(l2err))\n",
    "    print(log(l2err))\n",
    "    #graphvec3 = np.append(graphvec3, alpha)\n",
    "    #graphvec4 = np.append(graphvec4, l2err)\n",
    "    \n",
    "# Plot solution\n",
    "#plot(u, interactive=True)\n",
    "plt.plot(graphvec1,graphvec2,'o')\n",
    "locs, labels = plt.xticks()\n",
    "labels = plt.xticks(np.arange(-9, 9, step=3))\n",
    "locs, labels = plt.yticks()\n",
    "plt.title('log-log (base 10) plot of alpha vs l2err')\n",
    "plt.xlabel('log(alpha)')\n",
    "plt.ylabel('log(l2err)')\n",
    "plt.show()\n",
    "#locs, labels = plt.xticks()\n",
    "#labels = xticks(np.arange(0, 10, step=1))"
   ]
  },
  {
   "cell_type": "code",
   "execution_count": null,
   "metadata": {},
   "outputs": [],
   "source": []
  },
  {
   "cell_type": "markdown",
   "metadata": {},
   "source": [
    "(3) Exercise 7.3 Let $\\epsilon > 0 $. Consider the problem \n",
    "$$ -\\epsilon \\Delta u_e + u_e = f \\hspace{1mm} \\textit{in} \\hspace{1mm}\\Omega = [0,1]^2 $$\n",
    "together with the homogeneous Dirichlet conditions on all of $\\partial \\Omega$, where $f(x,y) = 1$, which does not satisfy the boundary conditions (2.2). See what happens for small $\\epsilon$. Does $u_e \\rightarrow f$? In what norm(s)? Is there a boundary layer? Compare the data in Table 7.4 and experiment with other values of $\\epsilon$. Note that the best results require a large number of nodes to resolve the boundary layer, but among the different choices (linear, quadratics, and so forth), the results are about the same and take about the same time to compute.e In particular, using a high-order polynomial does not provide particular benefit in this case."
   ]
  },
  {
   "cell_type": "code",
   "execution_count": null,
   "metadata": {},
   "outputs": [],
   "source": [
    "\"\"\"This demo program solves a PDE\n",
    "\n",
    "    - div grad u(x, y) + K(x,y) u(x,y) = f\n",
    "\n",
    "on the unit square with Dirichlet boundary conditions given by u=0 \n",
    "on the boundary of the square, whose solution is related to the\n",
    "asymptotic van der Waals interaction energy for two hydrogen atoms.\n",
    "Computation is truncated to a domain of length \"ell\"\n",
    "\"\"\"\n",
    "\n",
    "from dolfin import *\n",
    "import sys\n",
    "from timeit import default_timer as timer\n",
    "\n",
    "from math import log2 as log2\n",
    "from math import pi as mypi \n",
    "\n",
    "parameters[\"form_compiler\"][\"quadrature_degree\"] = 12\n",
    "\n",
    "startime=timer()\n",
    "meshvec = [16,32,64,128,256]\n",
    "pdeg=1\n",
    "ell=15.0\n",
    "myeps=1e-9\n",
    "pmer = 1.0\n",
    "\n",
    "for meshsize in meshvec:\n",
    "  # Create mesh and define function space\n",
    "  mesh = UnitSquareMesh(meshsize, meshsize)\n",
    "  V = FunctionSpace(mesh, \"Lagrange\", pdeg)\n",
    "  \n",
    "  # Define boundary condition\n",
    "  u0 = Constant(0.0)\n",
    "  bc = DirichletBC(V, u0, DomainBoundary())\n",
    "  \n",
    "  # Define variational problem\n",
    "  u = TrialFunction(V)\n",
    "  v = TestFunction(V)\n",
    "  f  = Expression(\"(sin(3.141592*x[0]))*(sin(3.141592*x[1]))/myeps\",degree=1)\n",
    "  kay = 1/myeps\n",
    "  a = (inner(grad(u), grad(v))+kay*u*v)*dx\n",
    "  m = u*v*dx\n",
    "  RHS = f*v*dx \n",
    "  \n",
    "  # Compute solution\n",
    "  u = Function(V)\n",
    "  solve(a == RHS, u, bc)\n",
    "  aftersolveT=timer()\n",
    "  mfu= (16.0*pow(mypi,2)/3.0)*assemble(u*f*dx)\n",
    "  mer=mfu-6.49902670540\n",
    "  totime=aftersolveT-startime\n",
    "  erate = log2(abs(pmer/mer))\n",
    "  print(\"deg:\",pdeg,\" , meshno:\",meshsize,\", error: %.2e\"%mer,\", rate: %.2e\"%erate,\", eps: %.2e\"%myeps,\", L:%.1f\"%ell,\", time:%.3f\"%totime)\n",
    "  pmer = mer\n",
    "  \n",
    " \n",
    "  \n"
   ]
  },
  {
   "cell_type": "markdown",
   "metadata": {},
   "source": [
    "(4) Exercise 9.2 :  Another method for solving nonlinear equations $f(u) = 0$ is the fixed point iteration \n",
    "$$ u \\leftarrow u \\pm \\epsilon f(u)$$\n",
    "for some parameter $\\epsilon$. Give an implementation of the Jeffrey-Hamel problem and compare it with Newtons method."
   ]
  },
  {
   "cell_type": "code",
   "execution_count": 2,
   "metadata": {},
   "outputs": [
    {
     "name": "stdout",
     "output_type": "stream",
     "text": [
      "Calling FFC just-in-time (JIT) compiler, this may take some time.\n",
      "Calling FFC just-in-time (JIT) compiler, this may take some time.\n",
      "Calling FFC just-in-time (JIT) compiler, this may take some time.\n",
      "Calling FFC just-in-time (JIT) compiler, this may take some time.\n",
      "Calling FFC just-in-time (JIT) compiler, this may take some time.\n"
     ]
    },
    {
     "data": {
      "image/png": "[encoded data removed]",
      "text/plain": [
       "<Figure size 432x288 with 1 Axes>"
      ]
     },
     "metadata": {
      "needs_background": "light"
     },
     "output_type": "display_data"
    }
   ],
   "source": [
    "\"\"\"This program solves Jeffrey-Hamel problem\n",
    "\n",
    "    - u'' + 4u + 6u^2 = C\n",
    "\n",
    "on the unit interval with boundary conditions given by\n",
    "\n",
    "    u(0) = 0\n",
    "du/dn(1) = 0\n",
    "\"\"\"\n",
    "\n",
    "from dolfin import *\n",
    "import math\n",
    "import matplotlib.pyplot as plt\n",
    "\n",
    "meshvec = [16,32,64,256]\n",
    "pdeg    = 1\n",
    "see     = 60 ## go up to at least 6000000\n",
    "\n",
    "u0 = Expression(\"0.0\",degree=pdeg)\n",
    "for meshsize in meshvec:\n",
    "  # Create mesh and define function space\n",
    "  mesh = UnitIntervalMesh(meshsize)\n",
    "  V = FunctionSpace(mesh, \"Lagrange\", pdeg)\n",
    "  \n",
    "  # Define Dirichlet boundary (x = 0 or x = 1)\n",
    "  def boundary(x):\n",
    "      return x[0] < DOLFIN_EPS \n",
    "  \n",
    "  # Define boundary condition\n",
    "  bc = DirichletBC(V, u0, boundary)\n",
    "  \n",
    "  # Define variational problem\n",
    "  u = Function(V)\n",
    "  v = TestFunction(V)\n",
    "  f = Expression(\"C\",C=see,degree=pdeg)\n",
    "  F = inner(grad(u), grad(v))*dx + 4.0*u*v*dx + 6.0*u*u*v*dx - f*v*dx\n",
    "  \n",
    "  # Compute solution\n",
    "  solve(F == 0, u, bc)\n",
    "  \n",
    "  plot(u)\n",
    "  tstr = 'u_jh_C'+str(see)+'.png'\n",
    "  plt.savefig(tstr,dpi=300)\n"
   ]
  },
  {
   "cell_type": "markdown",
   "metadata": {},
   "source": [
    "(5) Implement your own Newton's method for the Jeffrey-Hamel problem. Clearly discuss what initial iterate(s) and stopping criteria you chose to use for your iteration and why"
   ]
  },
  {
   "cell_type": "code",
   "execution_count": null,
   "metadata": {},
   "outputs": [],
   "source": [
    "list_solver_methods()\n"
   ]
  },
  {
   "cell_type": "code",
   "execution_count": null,
   "metadata": {},
   "outputs": [],
   "source": []
  },
  {
   "cell_type": "code",
   "execution_count": null,
   "metadata": {},
   "outputs": [],
   "source": []
  }
 ],
 "metadata": {
  "kernelspec": {
   "display_name": "Python 3",
   "language": "python",
   "name": "python3"
  },
  "language_info": {
   "codemirror_mode": {
    "name": "ipython",
    "version": 3
   },
   "file_extension": ".py",
   "mimetype": "text/x-python",
   "name": "python",
   "nbconvert_exporter": "python",
   "pygments_lexer": "ipython3",
   "version": "3.6.7"
  }
 },
 "nbformat": 4,
 "nbformat_minor": 2
}
